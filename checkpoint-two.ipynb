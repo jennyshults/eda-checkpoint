{
    "cells": [
        {
            "attachments": {},
            "cell_type": "markdown",
            "metadata": {
                "azdata_cell_guid": "151601c9-ca7a-412e-af80-c62a87e0837e"
            },
            "source": [
                "# Checkpoint Two: Exploratory Data Analysis\n",
                "\n",
                "Now that your chosen dataset is approved, it is time to start working on your analysis. Use this notebook to perform your EDA and make notes where directed to as you work.\n",
                "\n",
                "## Getting Started\n",
                "\n",
                "Since we have not provided your dataset for you, you will need to load the necessary files in this repository. Make sure to include a link back to the original dataset here as well.\n",
                "\n",
                "My dataset:\n",
                "\n",
                "Your first task in EDA is to import necessary libraries and create a dataframe(s). Make note in the form of code comments of what your thought process is as you work on this setup task."
            ]
        },
        {
            "cell_type": "code",
            "execution_count": 114,
            "metadata": {
                "azdata_cell_guid": "7b503e37-6df5-4433-acfb-678b1346db14",
                "language": "python"
            },
            "outputs": [],
            "source": [
                "# import pandas module\n",
                "import pandas as pd\n",
                "import numpy as np\n",
                "import seaborn as sns\n",
                "import matplotlib\n",
                "from matplotlib import pyplot as plt\n",
                "\n",
                "# creating Students dataframe\n",
                "students = pd.read_csv(\"Students.csv\")\n",
                "\n",
                "# creating Attendance dataframe\n",
                "attendance = pd.read_csv(\"Attendance.csv\")\n",
                "\n",
                "# creating Grades dataframe\n",
                "grades = pd.read_csv(\"Grades.csv\")"
            ]
        },
        {
            "attachments": {},
            "cell_type": "markdown",
            "metadata": {
                "azdata_cell_guid": "129ce836-524b-4ea8-b394-a959f9308d6a"
            },
            "source": [
                "## Get to Know the Numbers\n",
                "\n",
                "Now that you have everything setup, put any code that you use to get to know the dataframe and its rows and columns better in the cell below. You can use whatever techniques you like, except for visualizations. You will put those in a separate section.\n",
                "\n",
                "When working on your code, make sure to leave comments so that your mentors can understand your thought process."
            ]
        },
        {
            "cell_type": "code",
            "execution_count": 115,
            "metadata": {
                "azdata_cell_guid": "0ca2d318-f6e8-43ef-a33e-5304d24d928d",
                "language": "python",
                "tags": []
            },
            "outputs": [
                {
                    "data": {
                        "text/html": [
                            "<div>\n",
                            "<style scoped>\n",
                            "    .dataframe tbody tr th:only-of-type {\n",
                            "        vertical-align: middle;\n",
                            "    }\n",
                            "\n",
                            "    .dataframe tbody tr th {\n",
                            "        vertical-align: top;\n",
                            "    }\n",
                            "\n",
                            "    .dataframe thead th {\n",
                            "        text-align: right;\n",
                            "    }\n",
                            "</style>\n",
                            "<table border=\"1\" class=\"dataframe\">\n",
                            "  <thead>\n",
                            "    <tr style=\"text-align: right;\">\n",
                            "      <th></th>\n",
                            "      <th>SLXID</th>\n",
                            "      <th>Location</th>\n",
                            "      <th>SubFaculty</th>\n",
                            "      <th>Program</th>\n",
                            "      <th>ProgramType</th>\n",
                            "      <th>Status</th>\n",
                            "      <th>StartDate</th>\n",
                            "      <th>EndDate</th>\n",
                            "      <th>Gender</th>\n",
                            "      <th>BirthDate</th>\n",
                            "      <th>EducationLevel</th>\n",
                            "      <th>TestScore</th>\n",
                            "      <th>PrimaryFunder</th>\n",
                            "    </tr>\n",
                            "  </thead>\n",
                            "  <tbody>\n",
                            "    <tr>\n",
                            "      <th>0</th>\n",
                            "      <td>ST007277</td>\n",
                            "      <td>Kansas City</td>\n",
                            "      <td>Massage Therapy</td>\n",
                            "      <td>Massage Therapy KC Day</td>\n",
                            "      <td>Certificate</td>\n",
                            "      <td>1.2w Withdrawn</td>\n",
                            "      <td>2/4/2019 12:00:00 AM</td>\n",
                            "      <td>1/1/1900 12:00:00 AM</td>\n",
                            "      <td>Female</td>\n",
                            "      <td>3/28/1995 12:00:00 AM</td>\n",
                            "      <td>N.A.</td>\n",
                            "      <td>NaN</td>\n",
                            "      <td>Wellspring Loan Over 12 Months (School)</td>\n",
                            "    </tr>\n",
                            "    <tr>\n",
                            "      <th>1</th>\n",
                            "      <td>ST007377</td>\n",
                            "      <td>Kansas City</td>\n",
                            "      <td>Massage Therapy</td>\n",
                            "      <td>Massage Therapy KC Day</td>\n",
                            "      <td>Certificate</td>\n",
                            "      <td>1.2w Withdrawn</td>\n",
                            "      <td>10/22/2019 12:00:00 AM</td>\n",
                            "      <td>1/1/1900 12:00:00 AM</td>\n",
                            "      <td>Female</td>\n",
                            "      <td>12/19/1987 12:00:00 AM</td>\n",
                            "      <td>N.A.</td>\n",
                            "      <td>NaN</td>\n",
                            "      <td>Wellspring Loan Under 12 Months (School)</td>\n",
                            "    </tr>\n",
                            "    <tr>\n",
                            "      <th>2</th>\n",
                            "      <td>ST006604</td>\n",
                            "      <td>Kansas City</td>\n",
                            "      <td>Massage Therapy</td>\n",
                            "      <td>Massage Therapy KC Day</td>\n",
                            "      <td>Certificate</td>\n",
                            "      <td>1.2w Withdrawn</td>\n",
                            "      <td>2/18/2020 12:00:00 AM</td>\n",
                            "      <td>6/10/2020 12:00:00 AM</td>\n",
                            "      <td>Female</td>\n",
                            "      <td>6/6/1978 12:00:00 AM</td>\n",
                            "      <td>N.A.</td>\n",
                            "      <td>NaN</td>\n",
                            "      <td>Wellspring Loan Over 12 Months (School)</td>\n",
                            "    </tr>\n",
                            "    <tr>\n",
                            "      <th>3</th>\n",
                            "      <td>ST008297</td>\n",
                            "      <td>Kansas City</td>\n",
                            "      <td>Massage Therapy</td>\n",
                            "      <td>Massage Therapy KC Day</td>\n",
                            "      <td>Certificate</td>\n",
                            "      <td>1.2w Withdrawn</td>\n",
                            "      <td>1/8/2019 12:00:00 AM</td>\n",
                            "      <td>1/21/2020 12:00:00 AM</td>\n",
                            "      <td>Female</td>\n",
                            "      <td>5/1/1988 12:00:00 AM</td>\n",
                            "      <td>N.A.</td>\n",
                            "      <td>NaN</td>\n",
                            "      <td>N.A.</td>\n",
                            "    </tr>\n",
                            "    <tr>\n",
                            "      <th>4</th>\n",
                            "      <td>ST008349</td>\n",
                            "      <td>Kansas City</td>\n",
                            "      <td>Massage Therapy</td>\n",
                            "      <td>Massage Therapy KC Day</td>\n",
                            "      <td>Certificate</td>\n",
                            "      <td>1.2w Withdrawn</td>\n",
                            "      <td>1/8/2019 12:00:00 AM</td>\n",
                            "      <td>1/1/1900 12:00:00 AM</td>\n",
                            "      <td>Male</td>\n",
                            "      <td>5/4/1971 12:00:00 AM</td>\n",
                            "      <td>N.A.</td>\n",
                            "      <td>NaN</td>\n",
                            "      <td>Pell Grant (Federal)</td>\n",
                            "    </tr>\n",
                            "  </tbody>\n",
                            "</table>\n",
                            "</div>"
                        ],
                        "text/plain": [
                            "      SLXID     Location       SubFaculty                 Program  \\\n",
                            "0  ST007277  Kansas City  Massage Therapy  Massage Therapy KC Day   \n",
                            "1  ST007377  Kansas City  Massage Therapy  Massage Therapy KC Day   \n",
                            "2  ST006604  Kansas City  Massage Therapy  Massage Therapy KC Day   \n",
                            "3  ST008297  Kansas City  Massage Therapy  Massage Therapy KC Day   \n",
                            "4  ST008349  Kansas City  Massage Therapy  Massage Therapy KC Day   \n",
                            "\n",
                            "   ProgramType          Status               StartDate                EndDate  \\\n",
                            "0  Certificate  1.2w Withdrawn    2/4/2019 12:00:00 AM   1/1/1900 12:00:00 AM   \n",
                            "1  Certificate  1.2w Withdrawn  10/22/2019 12:00:00 AM   1/1/1900 12:00:00 AM   \n",
                            "2  Certificate  1.2w Withdrawn   2/18/2020 12:00:00 AM  6/10/2020 12:00:00 AM   \n",
                            "3  Certificate  1.2w Withdrawn    1/8/2019 12:00:00 AM  1/21/2020 12:00:00 AM   \n",
                            "4  Certificate  1.2w Withdrawn    1/8/2019 12:00:00 AM   1/1/1900 12:00:00 AM   \n",
                            "\n",
                            "   Gender               BirthDate EducationLevel  TestScore  \\\n",
                            "0  Female   3/28/1995 12:00:00 AM           N.A.        NaN   \n",
                            "1  Female  12/19/1987 12:00:00 AM           N.A.        NaN   \n",
                            "2  Female    6/6/1978 12:00:00 AM           N.A.        NaN   \n",
                            "3  Female    5/1/1988 12:00:00 AM           N.A.        NaN   \n",
                            "4    Male    5/4/1971 12:00:00 AM           N.A.        NaN   \n",
                            "\n",
                            "                              PrimaryFunder  \n",
                            "0   Wellspring Loan Over 12 Months (School)  \n",
                            "1  Wellspring Loan Under 12 Months (School)  \n",
                            "2   Wellspring Loan Over 12 Months (School)  \n",
                            "3                                      N.A.  \n",
                            "4                      Pell Grant (Federal)  "
                        ]
                    },
                    "execution_count": 115,
                    "metadata": {},
                    "output_type": "execute_result"
                }
            ],
            "source": [
                "students.head()"
            ]
        },
        {
            "cell_type": "code",
            "execution_count": 116,
            "metadata": {},
            "outputs": [
                {
                    "data": {
                        "text/html": [
                            "<div>\n",
                            "<style scoped>\n",
                            "    .dataframe tbody tr th:only-of-type {\n",
                            "        vertical-align: middle;\n",
                            "    }\n",
                            "\n",
                            "    .dataframe tbody tr th {\n",
                            "        vertical-align: top;\n",
                            "    }\n",
                            "\n",
                            "    .dataframe thead th {\n",
                            "        text-align: right;\n",
                            "    }\n",
                            "</style>\n",
                            "<table border=\"1\" class=\"dataframe\">\n",
                            "  <thead>\n",
                            "    <tr style=\"text-align: right;\">\n",
                            "      <th></th>\n",
                            "      <th>AttendanceID</th>\n",
                            "      <th>Created</th>\n",
                            "      <th>Updated</th>\n",
                            "      <th>SLXID</th>\n",
                            "      <th>AttendanceDate</th>\n",
                            "      <th>Status</th>\n",
                            "      <th>StartTime</th>\n",
                            "      <th>EndTime</th>\n",
                            "    </tr>\n",
                            "  </thead>\n",
                            "  <tbody>\n",
                            "    <tr>\n",
                            "      <th>0</th>\n",
                            "      <td>7020330</td>\n",
                            "      <td>6/1/2020 1:32:03 PM</td>\n",
                            "      <td>6/1/2020 1:32:03 PM</td>\n",
                            "      <td>ST008905</td>\n",
                            "      <td>6/1/2020 12:00:00 AM</td>\n",
                            "      <td>Present</td>\n",
                            "      <td>6/1/2020 8:30:00 AM</td>\n",
                            "      <td>6/1/2020 12:30:00 PM</td>\n",
                            "    </tr>\n",
                            "    <tr>\n",
                            "      <th>1</th>\n",
                            "      <td>7020331</td>\n",
                            "      <td>6/1/2020 1:32:12 PM</td>\n",
                            "      <td>6/1/2020 1:32:12 PM</td>\n",
                            "      <td>ST008900</td>\n",
                            "      <td>6/1/2020 12:00:00 AM</td>\n",
                            "      <td>Present</td>\n",
                            "      <td>6/1/2020 8:30:00 AM</td>\n",
                            "      <td>6/1/2020 12:30:00 PM</td>\n",
                            "    </tr>\n",
                            "    <tr>\n",
                            "      <th>2</th>\n",
                            "      <td>7020332</td>\n",
                            "      <td>6/1/2020 1:32:24 PM</td>\n",
                            "      <td>6/1/2020 1:32:24 PM</td>\n",
                            "      <td>ST008908</td>\n",
                            "      <td>6/1/2020 12:00:00 AM</td>\n",
                            "      <td>Absent</td>\n",
                            "      <td>6/1/2020 8:30:00 AM</td>\n",
                            "      <td>6/1/2020 12:30:00 PM</td>\n",
                            "    </tr>\n",
                            "    <tr>\n",
                            "      <th>3</th>\n",
                            "      <td>7020333</td>\n",
                            "      <td>6/1/2020 1:32:37 PM</td>\n",
                            "      <td>6/1/2020 1:32:37 PM</td>\n",
                            "      <td>ST008871</td>\n",
                            "      <td>6/1/2020 12:00:00 AM</td>\n",
                            "      <td>Present</td>\n",
                            "      <td>6/1/2020 8:30:00 AM</td>\n",
                            "      <td>6/1/2020 12:30:00 PM</td>\n",
                            "    </tr>\n",
                            "    <tr>\n",
                            "      <th>4</th>\n",
                            "      <td>7020334</td>\n",
                            "      <td>6/1/2020 1:32:49 PM</td>\n",
                            "      <td>6/1/2020 1:32:49 PM</td>\n",
                            "      <td>ST008890</td>\n",
                            "      <td>6/1/2020 12:00:00 AM</td>\n",
                            "      <td>Absent</td>\n",
                            "      <td>6/1/2020 8:30:00 AM</td>\n",
                            "      <td>6/1/2020 12:30:00 PM</td>\n",
                            "    </tr>\n",
                            "  </tbody>\n",
                            "</table>\n",
                            "</div>"
                        ],
                        "text/plain": [
                            "   AttendanceID              Created              Updated     SLXID  \\\n",
                            "0       7020330  6/1/2020 1:32:03 PM  6/1/2020 1:32:03 PM  ST008905   \n",
                            "1       7020331  6/1/2020 1:32:12 PM  6/1/2020 1:32:12 PM  ST008900   \n",
                            "2       7020332  6/1/2020 1:32:24 PM  6/1/2020 1:32:24 PM  ST008908   \n",
                            "3       7020333  6/1/2020 1:32:37 PM  6/1/2020 1:32:37 PM  ST008871   \n",
                            "4       7020334  6/1/2020 1:32:49 PM  6/1/2020 1:32:49 PM  ST008890   \n",
                            "\n",
                            "         AttendanceDate   Status            StartTime               EndTime  \n",
                            "0  6/1/2020 12:00:00 AM  Present  6/1/2020 8:30:00 AM  6/1/2020 12:30:00 PM  \n",
                            "1  6/1/2020 12:00:00 AM  Present  6/1/2020 8:30:00 AM  6/1/2020 12:30:00 PM  \n",
                            "2  6/1/2020 12:00:00 AM   Absent  6/1/2020 8:30:00 AM  6/1/2020 12:30:00 PM  \n",
                            "3  6/1/2020 12:00:00 AM  Present  6/1/2020 8:30:00 AM  6/1/2020 12:30:00 PM  \n",
                            "4  6/1/2020 12:00:00 AM   Absent  6/1/2020 8:30:00 AM  6/1/2020 12:30:00 PM  "
                        ]
                    },
                    "execution_count": 116,
                    "metadata": {},
                    "output_type": "execute_result"
                }
            ],
            "source": [
                "attendance.head()"
            ]
        },
        {
            "cell_type": "code",
            "execution_count": 117,
            "metadata": {},
            "outputs": [
                {
                    "data": {
                        "text/html": [
                            "<div>\n",
                            "<style scoped>\n",
                            "    .dataframe tbody tr th:only-of-type {\n",
                            "        vertical-align: middle;\n",
                            "    }\n",
                            "\n",
                            "    .dataframe tbody tr th {\n",
                            "        vertical-align: top;\n",
                            "    }\n",
                            "\n",
                            "    .dataframe thead th {\n",
                            "        text-align: right;\n",
                            "    }\n",
                            "</style>\n",
                            "<table border=\"1\" class=\"dataframe\">\n",
                            "  <thead>\n",
                            "    <tr style=\"text-align: right;\">\n",
                            "      <th></th>\n",
                            "      <th>GradeID</th>\n",
                            "      <th>Created</th>\n",
                            "      <th>Updated</th>\n",
                            "      <th>SLXID</th>\n",
                            "      <th>CourseName</th>\n",
                            "      <th>Score</th>\n",
                            "    </tr>\n",
                            "  </thead>\n",
                            "  <tbody>\n",
                            "    <tr>\n",
                            "      <th>0</th>\n",
                            "      <td>678424</td>\n",
                            "      <td>10/2/2020 5:13:46 PM</td>\n",
                            "      <td>10/2/2020 5:13:46 PM</td>\n",
                            "      <td>ST008744</td>\n",
                            "      <td>N.A.</td>\n",
                            "      <td>93.0</td>\n",
                            "    </tr>\n",
                            "    <tr>\n",
                            "      <th>1</th>\n",
                            "      <td>679157</td>\n",
                            "      <td>10/13/2020 4:10:14 PM</td>\n",
                            "      <td>10/13/2020 4:10:14 PM</td>\n",
                            "      <td>ST008758</td>\n",
                            "      <td>N.A.</td>\n",
                            "      <td>88.0</td>\n",
                            "    </tr>\n",
                            "    <tr>\n",
                            "      <th>2</th>\n",
                            "      <td>679285</td>\n",
                            "      <td>10/14/2020 1:51:26 PM</td>\n",
                            "      <td>10/14/2020 1:51:26 PM</td>\n",
                            "      <td>ST008795</td>\n",
                            "      <td>N.A.</td>\n",
                            "      <td>78.0</td>\n",
                            "    </tr>\n",
                            "    <tr>\n",
                            "      <th>3</th>\n",
                            "      <td>679322</td>\n",
                            "      <td>10/14/2020 2:36:36 PM</td>\n",
                            "      <td>10/14/2020 2:36:36 PM</td>\n",
                            "      <td>ST008764</td>\n",
                            "      <td>Advanced Electrocardiogram</td>\n",
                            "      <td>90.0</td>\n",
                            "    </tr>\n",
                            "    <tr>\n",
                            "      <th>4</th>\n",
                            "      <td>679324</td>\n",
                            "      <td>10/14/2020 2:39:08 PM</td>\n",
                            "      <td>10/14/2020 2:39:08 PM</td>\n",
                            "      <td>ST009067</td>\n",
                            "      <td>Advanced Electrocardiogram</td>\n",
                            "      <td>95.0</td>\n",
                            "    </tr>\n",
                            "  </tbody>\n",
                            "</table>\n",
                            "</div>"
                        ],
                        "text/plain": [
                            "   GradeID                Created                Updated     SLXID  \\\n",
                            "0   678424   10/2/2020 5:13:46 PM   10/2/2020 5:13:46 PM  ST008744   \n",
                            "1   679157  10/13/2020 4:10:14 PM  10/13/2020 4:10:14 PM  ST008758   \n",
                            "2   679285  10/14/2020 1:51:26 PM  10/14/2020 1:51:26 PM  ST008795   \n",
                            "3   679322  10/14/2020 2:36:36 PM  10/14/2020 2:36:36 PM  ST008764   \n",
                            "4   679324  10/14/2020 2:39:08 PM  10/14/2020 2:39:08 PM  ST009067   \n",
                            "\n",
                            "                   CourseName  Score  \n",
                            "0                        N.A.   93.0  \n",
                            "1                        N.A.   88.0  \n",
                            "2                        N.A.   78.0  \n",
                            "3  Advanced Electrocardiogram   90.0  \n",
                            "4  Advanced Electrocardiogram   95.0  "
                        ]
                    },
                    "execution_count": 117,
                    "metadata": {},
                    "output_type": "execute_result"
                }
            ],
            "source": [
                "grades.head()"
            ]
        },
        {
            "cell_type": "code",
            "execution_count": 118,
            "metadata": {},
            "outputs": [
                {
                    "data": {
                        "text/html": [
                            "<div>\n",
                            "<style scoped>\n",
                            "    .dataframe tbody tr th:only-of-type {\n",
                            "        vertical-align: middle;\n",
                            "    }\n",
                            "\n",
                            "    .dataframe tbody tr th {\n",
                            "        vertical-align: top;\n",
                            "    }\n",
                            "\n",
                            "    .dataframe thead th {\n",
                            "        text-align: right;\n",
                            "    }\n",
                            "</style>\n",
                            "<table border=\"1\" class=\"dataframe\">\n",
                            "  <thead>\n",
                            "    <tr style=\"text-align: right;\">\n",
                            "      <th></th>\n",
                            "      <th>TestScore</th>\n",
                            "    </tr>\n",
                            "  </thead>\n",
                            "  <tbody>\n",
                            "    <tr>\n",
                            "      <th>count</th>\n",
                            "      <td>665.000000</td>\n",
                            "    </tr>\n",
                            "    <tr>\n",
                            "      <th>mean</th>\n",
                            "      <td>21.368421</td>\n",
                            "    </tr>\n",
                            "    <tr>\n",
                            "      <th>std</th>\n",
                            "      <td>4.765706</td>\n",
                            "    </tr>\n",
                            "    <tr>\n",
                            "      <th>min</th>\n",
                            "      <td>12.000000</td>\n",
                            "    </tr>\n",
                            "    <tr>\n",
                            "      <th>25%</th>\n",
                            "      <td>18.000000</td>\n",
                            "    </tr>\n",
                            "    <tr>\n",
                            "      <th>50%</th>\n",
                            "      <td>21.000000</td>\n",
                            "    </tr>\n",
                            "    <tr>\n",
                            "      <th>75%</th>\n",
                            "      <td>24.000000</td>\n",
                            "    </tr>\n",
                            "    <tr>\n",
                            "      <th>max</th>\n",
                            "      <td>99.000000</td>\n",
                            "    </tr>\n",
                            "  </tbody>\n",
                            "</table>\n",
                            "</div>"
                        ],
                        "text/plain": [
                            "        TestScore\n",
                            "count  665.000000\n",
                            "mean    21.368421\n",
                            "std      4.765706\n",
                            "min     12.000000\n",
                            "25%     18.000000\n",
                            "50%     21.000000\n",
                            "75%     24.000000\n",
                            "max     99.000000"
                        ]
                    },
                    "execution_count": 118,
                    "metadata": {},
                    "output_type": "execute_result"
                }
            ],
            "source": [
                "students.describe()"
            ]
        },
        {
            "cell_type": "code",
            "execution_count": 119,
            "metadata": {},
            "outputs": [
                {
                    "data": {
                        "text/plain": [
                            "(1729, 13)"
                        ]
                    },
                    "execution_count": 119,
                    "metadata": {},
                    "output_type": "execute_result"
                }
            ],
            "source": [
                "students.shape"
            ]
        },
        {
            "cell_type": "code",
            "execution_count": 120,
            "metadata": {},
            "outputs": [
                {
                    "data": {
                        "text/plain": [
                            "SLXID                1\n",
                            "Location             0\n",
                            "SubFaculty           0\n",
                            "Program              0\n",
                            "ProgramType          0\n",
                            "Status               0\n",
                            "StartDate            0\n",
                            "EndDate              0\n",
                            "Gender               0\n",
                            "BirthDate            0\n",
                            "EducationLevel       0\n",
                            "TestScore         1064\n",
                            "PrimaryFunder        0\n",
                            "dtype: int64"
                        ]
                    },
                    "execution_count": 120,
                    "metadata": {},
                    "output_type": "execute_result"
                }
            ],
            "source": [
                "students.isnull().sum()"
            ]
        },
        {
            "cell_type": "code",
            "execution_count": 121,
            "metadata": {},
            "outputs": [
                {
                    "data": {
                        "text/html": [
                            "<div>\n",
                            "<style scoped>\n",
                            "    .dataframe tbody tr th:only-of-type {\n",
                            "        vertical-align: middle;\n",
                            "    }\n",
                            "\n",
                            "    .dataframe tbody tr th {\n",
                            "        vertical-align: top;\n",
                            "    }\n",
                            "\n",
                            "    .dataframe thead th {\n",
                            "        text-align: right;\n",
                            "    }\n",
                            "</style>\n",
                            "<table border=\"1\" class=\"dataframe\">\n",
                            "  <thead>\n",
                            "    <tr style=\"text-align: right;\">\n",
                            "      <th></th>\n",
                            "      <th>AttendanceID</th>\n",
                            "    </tr>\n",
                            "  </thead>\n",
                            "  <tbody>\n",
                            "    <tr>\n",
                            "      <th>count</th>\n",
                            "      <td>1.777330e+05</td>\n",
                            "    </tr>\n",
                            "    <tr>\n",
                            "      <th>mean</th>\n",
                            "      <td>7.114785e+06</td>\n",
                            "    </tr>\n",
                            "    <tr>\n",
                            "      <th>std</th>\n",
                            "      <td>5.428652e+04</td>\n",
                            "    </tr>\n",
                            "    <tr>\n",
                            "      <th>min</th>\n",
                            "      <td>7.020330e+06</td>\n",
                            "    </tr>\n",
                            "    <tr>\n",
                            "      <th>25%</th>\n",
                            "      <td>7.066953e+06</td>\n",
                            "    </tr>\n",
                            "    <tr>\n",
                            "      <th>50%</th>\n",
                            "      <td>7.116473e+06</td>\n",
                            "    </tr>\n",
                            "    <tr>\n",
                            "      <th>75%</th>\n",
                            "      <td>7.162070e+06</td>\n",
                            "    </tr>\n",
                            "    <tr>\n",
                            "      <th>max</th>\n",
                            "      <td>7.207570e+06</td>\n",
                            "    </tr>\n",
                            "  </tbody>\n",
                            "</table>\n",
                            "</div>"
                        ],
                        "text/plain": [
                            "       AttendanceID\n",
                            "count  1.777330e+05\n",
                            "mean   7.114785e+06\n",
                            "std    5.428652e+04\n",
                            "min    7.020330e+06\n",
                            "25%    7.066953e+06\n",
                            "50%    7.116473e+06\n",
                            "75%    7.162070e+06\n",
                            "max    7.207570e+06"
                        ]
                    },
                    "execution_count": 121,
                    "metadata": {},
                    "output_type": "execute_result"
                }
            ],
            "source": [
                "attendance.describe()"
            ]
        },
        {
            "cell_type": "code",
            "execution_count": 122,
            "metadata": {},
            "outputs": [
                {
                    "data": {
                        "text/plain": [
                            "(177733, 8)"
                        ]
                    },
                    "execution_count": 122,
                    "metadata": {},
                    "output_type": "execute_result"
                }
            ],
            "source": [
                "attendance.shape"
            ]
        },
        {
            "cell_type": "code",
            "execution_count": 123,
            "metadata": {},
            "outputs": [
                {
                    "data": {
                        "text/plain": [
                            "AttendanceID      0\n",
                            "Created           0\n",
                            "Updated           0\n",
                            "SLXID             0\n",
                            "AttendanceDate    0\n",
                            "Status            0\n",
                            "StartTime         3\n",
                            "EndTime           2\n",
                            "dtype: int64"
                        ]
                    },
                    "execution_count": 123,
                    "metadata": {},
                    "output_type": "execute_result"
                }
            ],
            "source": [
                "attendance.isnull().sum()"
            ]
        },
        {
            "cell_type": "code",
            "execution_count": 124,
            "metadata": {},
            "outputs": [
                {
                    "data": {
                        "text/html": [
                            "<div>\n",
                            "<style scoped>\n",
                            "    .dataframe tbody tr th:only-of-type {\n",
                            "        vertical-align: middle;\n",
                            "    }\n",
                            "\n",
                            "    .dataframe tbody tr th {\n",
                            "        vertical-align: top;\n",
                            "    }\n",
                            "\n",
                            "    .dataframe thead th {\n",
                            "        text-align: right;\n",
                            "    }\n",
                            "</style>\n",
                            "<table border=\"1\" class=\"dataframe\">\n",
                            "  <thead>\n",
                            "    <tr style=\"text-align: right;\">\n",
                            "      <th></th>\n",
                            "      <th>GradeID</th>\n",
                            "      <th>Score</th>\n",
                            "    </tr>\n",
                            "  </thead>\n",
                            "  <tbody>\n",
                            "    <tr>\n",
                            "      <th>count</th>\n",
                            "      <td>25482.000000</td>\n",
                            "      <td>25371.000000</td>\n",
                            "    </tr>\n",
                            "    <tr>\n",
                            "      <th>mean</th>\n",
                            "      <td>689827.135664</td>\n",
                            "      <td>91.981475</td>\n",
                            "    </tr>\n",
                            "    <tr>\n",
                            "      <th>std</th>\n",
                            "      <td>8349.385432</td>\n",
                            "      <td>12.342241</td>\n",
                            "    </tr>\n",
                            "    <tr>\n",
                            "      <th>min</th>\n",
                            "      <td>675680.000000</td>\n",
                            "      <td>0.000000</td>\n",
                            "    </tr>\n",
                            "    <tr>\n",
                            "      <th>25%</th>\n",
                            "      <td>682525.250000</td>\n",
                            "      <td>90.000000</td>\n",
                            "    </tr>\n",
                            "    <tr>\n",
                            "      <th>50%</th>\n",
                            "      <td>690369.000000</td>\n",
                            "      <td>96.000000</td>\n",
                            "    </tr>\n",
                            "    <tr>\n",
                            "      <th>75%</th>\n",
                            "      <td>697280.750000</td>\n",
                            "      <td>99.000000</td>\n",
                            "    </tr>\n",
                            "    <tr>\n",
                            "      <th>max</th>\n",
                            "      <td>703897.000000</td>\n",
                            "      <td>100.000000</td>\n",
                            "    </tr>\n",
                            "  </tbody>\n",
                            "</table>\n",
                            "</div>"
                        ],
                        "text/plain": [
                            "             GradeID         Score\n",
                            "count   25482.000000  25371.000000\n",
                            "mean   689827.135664     91.981475\n",
                            "std      8349.385432     12.342241\n",
                            "min    675680.000000      0.000000\n",
                            "25%    682525.250000     90.000000\n",
                            "50%    690369.000000     96.000000\n",
                            "75%    697280.750000     99.000000\n",
                            "max    703897.000000    100.000000"
                        ]
                    },
                    "execution_count": 124,
                    "metadata": {},
                    "output_type": "execute_result"
                }
            ],
            "source": [
                "grades.describe()\n"
            ]
        },
        {
            "cell_type": "code",
            "execution_count": 125,
            "metadata": {},
            "outputs": [
                {
                    "data": {
                        "text/plain": [
                            "(25482, 6)"
                        ]
                    },
                    "execution_count": 125,
                    "metadata": {},
                    "output_type": "execute_result"
                }
            ],
            "source": [
                "grades.shape"
            ]
        },
        {
            "cell_type": "code",
            "execution_count": 126,
            "metadata": {},
            "outputs": [
                {
                    "data": {
                        "text/plain": [
                            "GradeID         0\n",
                            "Created         0\n",
                            "Updated         0\n",
                            "SLXID           0\n",
                            "CourseName      0\n",
                            "Score         111\n",
                            "dtype: int64"
                        ]
                    },
                    "execution_count": 126,
                    "metadata": {},
                    "output_type": "execute_result"
                }
            ],
            "source": [
                "grades.isnull().sum()"
            ]
        },
        {
            "attachments": {},
            "cell_type": "markdown",
            "metadata": {
                "azdata_cell_guid": "d45060f3-97bc-484a-9ef4-66145bbe9427"
            },
            "source": [
                "## Visualize\n",
                "\n",
                "Create any visualizations for your EDA here. Make note in the form of code comments of what your thought process is for your visualizations."
            ]
        },
        {
            "cell_type": "code",
            "execution_count": 127,
            "metadata": {},
            "outputs": [
                {
                    "data": {
                        "text/plain": [
                            "<AxesSubplot: title={'center': 'Wonderlic Test Score'}, ylabel='Frequency'>"
                        ]
                    },
                    "execution_count": 127,
                    "metadata": {},
                    "output_type": "execute_result"
                },
                {
                    "data": {
                        "image/png": "[encoded data removed]",
                        "text/plain": [
                            "<Figure size 640x480 with 1 Axes>"
                        ]
                    },
                    "metadata": {},
                    "output_type": "display_data"
                }
            ],
            "source": [
                "# Checking the TestScore field to see if there are outliers. Typical score is 15-30.\n",
                "students[['TestScore']].plot.hist(bins = 30, title = 'Wonderlic Test Score')"
            ]
        },
        {
            "cell_type": "code",
            "execution_count": 128,
            "metadata": {
                "azdata_cell_guid": "f4565b03-759a-47a8-b58f-01b32a0b4b67",
                "language": "python"
            },
            "outputs": [
                {
                    "data": {
                        "text/plain": [
                            "<AxesSubplot: >"
                        ]
                    },
                    "execution_count": 128,
                    "metadata": {},
                    "output_type": "execute_result"
                },
                {
                    "data": {
                        "image/png": "[encoded data removed]",
                        "text/plain": [
                            "<Figure size 640x480 with 1 Axes>"
                        ]
                    },
                    "metadata": {},
                    "output_type": "display_data"
                }
            ],
            "source": [
                "# Getting a visualization of the grade distribution\n",
                "grades[['Score']].plot.box()"
            ]
        },
        {
            "cell_type": "code",
            "execution_count": 142,
            "metadata": {},
            "outputs": [
                {
                    "data": {
                        "text/html": [
                            "<div>\n",
                            "<style scoped>\n",
                            "    .dataframe tbody tr th:only-of-type {\n",
                            "        vertical-align: middle;\n",
                            "    }\n",
                            "\n",
                            "    .dataframe tbody tr th {\n",
                            "        vertical-align: top;\n",
                            "    }\n",
                            "\n",
                            "    .dataframe thead th {\n",
                            "        text-align: right;\n",
                            "    }\n",
                            "</style>\n",
                            "<table border=\"1\" class=\"dataframe\">\n",
                            "  <thead>\n",
                            "    <tr style=\"text-align: right;\">\n",
                            "      <th></th>\n",
                            "      <th>SLXID</th>\n",
                            "      <th>Score</th>\n",
                            "    </tr>\n",
                            "  </thead>\n",
                            "  <tbody>\n",
                            "    <tr>\n",
                            "      <th>0</th>\n",
                            "      <td>ST002637</td>\n",
                            "      <td>99.000000</td>\n",
                            "    </tr>\n",
                            "    <tr>\n",
                            "      <th>1</th>\n",
                            "      <td>ST006596</td>\n",
                            "      <td>95.379310</td>\n",
                            "    </tr>\n",
                            "    <tr>\n",
                            "      <th>2</th>\n",
                            "      <td>ST007334</td>\n",
                            "      <td>100.000000</td>\n",
                            "    </tr>\n",
                            "    <tr>\n",
                            "      <th>3</th>\n",
                            "      <td>ST007402</td>\n",
                            "      <td>89.914286</td>\n",
                            "    </tr>\n",
                            "    <tr>\n",
                            "      <th>4</th>\n",
                            "      <td>ST007416</td>\n",
                            "      <td>91.888889</td>\n",
                            "    </tr>\n",
                            "  </tbody>\n",
                            "</table>\n",
                            "</div>"
                        ],
                        "text/plain": [
                            "      SLXID       Score\n",
                            "0  ST002637   99.000000\n",
                            "1  ST006596   95.379310\n",
                            "2  ST007334  100.000000\n",
                            "3  ST007402   89.914286\n",
                            "4  ST007416   91.888889"
                        ]
                    },
                    "execution_count": 142,
                    "metadata": {},
                    "output_type": "execute_result"
                }
            ],
            "source": [
                "# Getting average scores for each student (grouped by SLXID)\n",
                "grouped_grades = grades[['SLXID','Score']].groupby('SLXID').mean()\n",
                "grouped_grades.reset_index(inplace = True)\n",
                "grouped_grades.head()"
            ]
        },
        {
            "cell_type": "code",
            "execution_count": 144,
            "metadata": {},
            "outputs": [
                {
                    "data": {
                        "text/html": [
                            "<div>\n",
                            "<style scoped>\n",
                            "    .dataframe tbody tr th:only-of-type {\n",
                            "        vertical-align: middle;\n",
                            "    }\n",
                            "\n",
                            "    .dataframe tbody tr th {\n",
                            "        vertical-align: top;\n",
                            "    }\n",
                            "\n",
                            "    .dataframe thead th {\n",
                            "        text-align: right;\n",
                            "    }\n",
                            "</style>\n",
                            "<table border=\"1\" class=\"dataframe\">\n",
                            "  <thead>\n",
                            "    <tr style=\"text-align: right;\">\n",
                            "      <th></th>\n",
                            "      <th>SLXID</th>\n",
                            "      <th>Location</th>\n",
                            "      <th>SubFaculty</th>\n",
                            "      <th>Program</th>\n",
                            "      <th>ProgramType</th>\n",
                            "      <th>Status</th>\n",
                            "      <th>StartDate</th>\n",
                            "      <th>EndDate</th>\n",
                            "      <th>Gender</th>\n",
                            "      <th>BirthDate</th>\n",
                            "      <th>EducationLevel</th>\n",
                            "      <th>TestScore</th>\n",
                            "      <th>PrimaryFunder</th>\n",
                            "      <th>Score</th>\n",
                            "    </tr>\n",
                            "  </thead>\n",
                            "  <tbody>\n",
                            "    <tr>\n",
                            "      <th>0</th>\n",
                            "      <td>ST008788</td>\n",
                            "      <td>Kansas City</td>\n",
                            "      <td>Massage Therapy</td>\n",
                            "      <td>Massage Therapy KC Day</td>\n",
                            "      <td>Certificate</td>\n",
                            "      <td>1.2w Withdrawn</td>\n",
                            "      <td>9/4/2019 12:00:00 AM</td>\n",
                            "      <td>10/27/2020 12:00:00 AM</td>\n",
                            "      <td>Female</td>\n",
                            "      <td>7/14/1982 12:00:00 AM</td>\n",
                            "      <td>N.A.</td>\n",
                            "      <td>NaN</td>\n",
                            "      <td>Direct Unsubsidized Stafford Loan (Federal)</td>\n",
                            "      <td>92.700000</td>\n",
                            "    </tr>\n",
                            "    <tr>\n",
                            "      <th>1</th>\n",
                            "      <td>ST008831</td>\n",
                            "      <td>Kansas City</td>\n",
                            "      <td>Massage Therapy</td>\n",
                            "      <td>Massage Therapy KC Day</td>\n",
                            "      <td>Certificate</td>\n",
                            "      <td>1.2w Withdrawn</td>\n",
                            "      <td>4/13/2020 12:00:00 AM</td>\n",
                            "      <td>7/30/2020 12:00:00 AM</td>\n",
                            "      <td>Female</td>\n",
                            "      <td>6/7/2001 12:00:00 AM</td>\n",
                            "      <td>N.A.</td>\n",
                            "      <td>NaN</td>\n",
                            "      <td>Rehab Vocational Rehab (State)</td>\n",
                            "      <td>99.000000</td>\n",
                            "    </tr>\n",
                            "    <tr>\n",
                            "      <th>2</th>\n",
                            "      <td>ST008849</td>\n",
                            "      <td>Kansas City</td>\n",
                            "      <td>Massage Therapy</td>\n",
                            "      <td>Massage Therapy KC Day</td>\n",
                            "      <td>Certificate</td>\n",
                            "      <td>1.2w Withdrawn</td>\n",
                            "      <td>10/22/2019 12:00:00 AM</td>\n",
                            "      <td>2/6/2021 12:00:00 AM</td>\n",
                            "      <td>Male</td>\n",
                            "      <td>5/4/1990 12:00:00 AM</td>\n",
                            "      <td>N.A.</td>\n",
                            "      <td>NaN</td>\n",
                            "      <td>Direct Unsubsidized Stafford Loan (Federal)</td>\n",
                            "      <td>83.611111</td>\n",
                            "    </tr>\n",
                            "    <tr>\n",
                            "      <th>3</th>\n",
                            "      <td>ST008912</td>\n",
                            "      <td>Kansas City</td>\n",
                            "      <td>Massage Therapy</td>\n",
                            "      <td>Massage Therapy KC Day</td>\n",
                            "      <td>Certificate</td>\n",
                            "      <td>1.2w Withdrawn</td>\n",
                            "      <td>1/6/2020 12:00:00 AM</td>\n",
                            "      <td>1/14/2021 12:00:00 AM</td>\n",
                            "      <td>Female</td>\n",
                            "      <td>10/7/1991 12:00:00 AM</td>\n",
                            "      <td>N.A.</td>\n",
                            "      <td>NaN</td>\n",
                            "      <td>Wellspring Loan Over 12 Months (School)</td>\n",
                            "      <td>93.714286</td>\n",
                            "    </tr>\n",
                            "    <tr>\n",
                            "      <th>4</th>\n",
                            "      <td>ST008912</td>\n",
                            "      <td>Kansas City</td>\n",
                            "      <td>Massage Therapy</td>\n",
                            "      <td>Massage Therapy Certificate (Day)</td>\n",
                            "      <td>Certificate</td>\n",
                            "      <td>1.4 Complete</td>\n",
                            "      <td>4/27/2021 12:00:00 AM</td>\n",
                            "      <td>8/19/2021 12:00:00 AM</td>\n",
                            "      <td>Female</td>\n",
                            "      <td>10/7/1991 12:00:00 AM</td>\n",
                            "      <td>N.A.</td>\n",
                            "      <td>NaN</td>\n",
                            "      <td>Cash / Check / Money Order (Personal)</td>\n",
                            "      <td>93.714286</td>\n",
                            "    </tr>\n",
                            "  </tbody>\n",
                            "</table>\n",
                            "</div>"
                        ],
                        "text/plain": [
                            "      SLXID     Location       SubFaculty                            Program  \\\n",
                            "0  ST008788  Kansas City  Massage Therapy             Massage Therapy KC Day   \n",
                            "1  ST008831  Kansas City  Massage Therapy             Massage Therapy KC Day   \n",
                            "2  ST008849  Kansas City  Massage Therapy             Massage Therapy KC Day   \n",
                            "3  ST008912  Kansas City  Massage Therapy             Massage Therapy KC Day   \n",
                            "4  ST008912  Kansas City  Massage Therapy  Massage Therapy Certificate (Day)   \n",
                            "\n",
                            "   ProgramType          Status               StartDate  \\\n",
                            "0  Certificate  1.2w Withdrawn    9/4/2019 12:00:00 AM   \n",
                            "1  Certificate  1.2w Withdrawn   4/13/2020 12:00:00 AM   \n",
                            "2  Certificate  1.2w Withdrawn  10/22/2019 12:00:00 AM   \n",
                            "3  Certificate  1.2w Withdrawn    1/6/2020 12:00:00 AM   \n",
                            "4  Certificate    1.4 Complete   4/27/2021 12:00:00 AM   \n",
                            "\n",
                            "                  EndDate  Gender              BirthDate EducationLevel  \\\n",
                            "0  10/27/2020 12:00:00 AM  Female  7/14/1982 12:00:00 AM           N.A.   \n",
                            "1   7/30/2020 12:00:00 AM  Female   6/7/2001 12:00:00 AM           N.A.   \n",
                            "2    2/6/2021 12:00:00 AM    Male   5/4/1990 12:00:00 AM           N.A.   \n",
                            "3   1/14/2021 12:00:00 AM  Female  10/7/1991 12:00:00 AM           N.A.   \n",
                            "4   8/19/2021 12:00:00 AM  Female  10/7/1991 12:00:00 AM           N.A.   \n",
                            "\n",
                            "   TestScore                                PrimaryFunder      Score  \n",
                            "0        NaN  Direct Unsubsidized Stafford Loan (Federal)  92.700000  \n",
                            "1        NaN               Rehab Vocational Rehab (State)  99.000000  \n",
                            "2        NaN  Direct Unsubsidized Stafford Loan (Federal)  83.611111  \n",
                            "3        NaN      Wellspring Loan Over 12 Months (School)  93.714286  \n",
                            "4        NaN        Cash / Check / Money Order (Personal)  93.714286  "
                        ]
                    },
                    "execution_count": 144,
                    "metadata": {},
                    "output_type": "execute_result"
                }
            ],
            "source": [
                "# Merging grouped_grades with students to be able to compare average grade to other student-related data\n",
                "student_grades = pd.merge(students,grouped_grades,how='inner',on='SLXID')\n",
                "student_grades.head()"
            ]
        },
        {
            "attachments": {},
            "cell_type": "markdown",
            "metadata": {
                "azdata_cell_guid": "d4931c0c-2c09-4ee1-95d4-73dd08c2f0a6"
            },
            "source": [
                "## Summarize Your Results\n",
                "\n",
                "With your EDA complete, answer the following questions.\n",
                "\n",
                "1. Was there anything surprising about your dataset? \n",
                "2. Do you have any concerns about your dataset? \n",
                "3. Is there anything you want to make note of for the next phase of your analysis, which is cleaning data? "
            ]
        },
        {
            "attachments": {},
            "cell_type": "markdown",
            "metadata": {},
            "source": [
                "1. I was surpised by how large the datasets are, particularly the attendance table. I was also surprised by how much missing data I see, just from looking at the df head.\n",
                "2. I'm concerned about the missing data. I'll have to decide how I can accurately represent my findings without the null values skewing my results.\n",
                "3. I need to make sure that the SLXID field can be matched up across the three tables. I also want to see if the missing data is from the period where we were using a different SIS. If so, I may not be able to show full historical data on all data points, but I'll be able to eliminate the nulls and just look at more recent data."
            ]
        }
    ],
    "metadata": {
        "kernelspec": {
            "display_name": "Python 3 (ipykernel)",
            "language": "python",
            "name": "python3"
        },
        "language_info": {
            "codemirror_mode": {
                "name": "ipython",
                "version": 3
            },
            "file_extension": ".py",
            "mimetype": "text/x-python",
            "name": "python",
            "nbconvert_exporter": "python",
            "pygments_lexer": "ipython3",
            "version": "3.11.1"
        }
    },
    "nbformat": 4,
    "nbformat_minor": 2
}
